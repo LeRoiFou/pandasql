{
 "cells": [
  {
   "cell_type": "markdown",
   "metadata": {},
   "source": [
    "# Les opérateurs AND et OR"
   ]
  },
  {
   "cell_type": "markdown",
   "metadata": {},
   "source": [
    "> Syntaxe :\n",
    "> ```\n",
    "> SELECT nom_colonne\n",
    "> FROM Nom_table\n",
    "> WHERE condition1 AND/OR condition2;\n",
    "> ```\n",
    "> <br>"
   ]
  },
  {
   "cell_type": "code",
   "execution_count": null,
   "metadata": {},
   "outputs": [],
   "source": []
  }
 ],
 "metadata": {
  "language_info": {
   "name": "python"
  }
 },
 "nbformat": 4,
 "nbformat_minor": 2
}
